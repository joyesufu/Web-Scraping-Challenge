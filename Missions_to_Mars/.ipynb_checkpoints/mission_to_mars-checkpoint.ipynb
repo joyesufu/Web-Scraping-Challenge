{
 "cells": [
  {
   "cell_type": "code",
   "execution_count": null,
   "id": "30ccb8b8",
   "metadata": {},
   "outputs": [],
   "source": [
    "import pandas as pd\n",
    "from splinter import Browser\n",
    "from bs4 import BeautifulSoup as bs\n",
    "from webdriver_manager.chrome import ChromeDriverManager\n",
    "import requests"
   ]
  },
  {
   "cell_type": "code",
   "execution_count": null,
   "id": "5afa8d13",
   "metadata": {
    "scrolled": true
   },
   "outputs": [],
   "source": [
    "executable_path = {'executable_path': ChromeDriverManager().install()}\n",
    "browser = Browser('chrome', **executable_path, headless=False)"
   ]
  },
  {
   "cell_type": "markdown",
   "id": "896181c9",
   "metadata": {},
   "source": [
    "# Latest News"
   ]
  },
  {
   "cell_type": "code",
   "execution_count": null,
   "id": "cfbb6632",
   "metadata": {},
   "outputs": [],
   "source": [
    "url = 'https://redplanetscience.com/'\n",
    "browser.visit(url)\n",
    "\n",
    "#Set an HTML object\n",
    "html = browser.html\n",
    "\n",
    "# Parse HTML with Beautiful Soup\n",
    "soup = bs(html, 'html.parser')"
   ]
  },
  {
   "cell_type": "code",
   "execution_count": null,
   "id": "c6472d80",
   "metadata": {},
   "outputs": [],
   "source": [
    "news_title = soup.find_all('div', class_='content_title')[1].text\n",
    "news_p = soup.find_all('div', class_='article_teaser_body')[0].text"
   ]
  },
  {
   "cell_type": "code",
   "execution_count": null,
   "id": "bc9c23f6",
   "metadata": {},
   "outputs": [],
   "source": [
    "print(news_title)\n",
    "print(news_p)"
   ]
  },
  {
   "cell_type": "markdown",
   "id": "4e50d6e6",
   "metadata": {},
   "source": [
    "# Space Images"
   ]
  },
  {
   "cell_type": "code",
   "execution_count": null,
   "id": "a24a60a3",
   "metadata": {
    "scrolled": true
   },
   "outputs": [],
   "source": [
    "# space_url = 'https://spaceimages-mars.com/'\n",
    "# browser.visit(space_url)\n",
    "\n",
    "# space_url = 'https://spaceimages-mars.com/'\n",
    "# browser.visit(space_url)\n",
    "# browser.links.find_by_partial_text('FULL IMAGE').click()\n",
    "# #Set an HTML object\n",
    "# html_space = browser.html\n",
    "\n",
    "# # Parse HTML with Beautiful Soup\n",
    "# soup2 = bs(html_space, 'html.parser')\n",
    "\n",
    "space_url = 'https://spaceimages-mars.com/'\n",
    "\n",
    "browser.visit(space_url)\n",
    "\n",
    "html = browser.html\n",
    "\n",
    "images_soup = bs(html, 'html.parser')"
   ]
  },
  {
   "cell_type": "code",
   "execution_count": null,
   "id": "0f9605f3",
   "metadata": {},
   "outputs": [],
   "source": [
    "# full_image_elem = browser.find_by_tag('button')[1]\n",
    "# full_image_elem.click()\n",
    "\n",
    "element = images_soup.find_all('div',class_='header')\n",
    "\n",
    "image_string = element[0].find('img', class_='headerimage')['src']\n",
    "print(image_string)"
   ]
  },
  {
   "cell_type": "code",
   "execution_count": null,
   "id": "8ca829f8",
   "metadata": {},
   "outputs": [],
   "source": [
    "featured_image_url = f'{space_url}{image_string}'\n",
    "\n",
    "print(featured_image_url)"
   ]
  },
  {
   "cell_type": "code",
   "execution_count": null,
   "id": "c4e68efb",
   "metadata": {},
   "outputs": [],
   "source": []
  },
  {
   "cell_type": "markdown",
   "id": "3025cbb9",
   "metadata": {},
   "source": [
    "# Mars Facts"
   ]
  },
  {
   "cell_type": "code",
   "execution_count": null,
   "id": "7b69bd66",
   "metadata": {},
   "outputs": [],
   "source": [
    "mars_facts_url = 'https://galaxyfacts-mars.com/'\n",
    "table = pd.read_html(mars_facts_url)\n",
    "table"
   ]
  },
  {
   "cell_type": "code",
   "execution_count": null,
   "id": "1ba34a2a",
   "metadata": {},
   "outputs": [],
   "source": [
    "mars_facts_df = table[1]\n",
    "mars_facts_df.columns=['Measurement','Value']\n",
    "mars_facts_df"
   ]
  },
  {
   "cell_type": "code",
   "execution_count": null,
   "id": "247fd7ed",
   "metadata": {},
   "outputs": [],
   "source": [
    "mars_facts_df.to_html('mars_table.html', index=False)\n",
    "\n",
    "mars_html = mars_facts_df.to_html()"
   ]
  },
  {
   "cell_type": "code",
   "execution_count": null,
   "id": "de8d6797",
   "metadata": {
    "scrolled": true
   },
   "outputs": [],
   "source": [
    "mars_html.replace('\\n','')\n",
    "print(mars_html)"
   ]
  },
  {
   "cell_type": "code",
   "execution_count": null,
   "id": "972ba309",
   "metadata": {},
   "outputs": [],
   "source": []
  },
  {
   "cell_type": "markdown",
   "id": "36501217",
   "metadata": {},
   "source": [
    "# Mars Hemispheres"
   ]
  },
  {
   "cell_type": "code",
   "execution_count": null,
   "id": "a2089726",
   "metadata": {},
   "outputs": [],
   "source": [
    "hemispheres_url = 'https://marshemispheres.com/'\n",
    "\n",
    "browser.visit(hemispheres_url)\n",
    "\n",
    "html = browser.html\n",
    "\n",
    "hemisphere_soup = bs(html, 'html.parser')\n",
    "\n",
    "print(hemisphere_soup.prettify())"
   ]
  },
  {
   "cell_type": "code",
   "execution_count": null,
   "id": "4313d05f",
   "metadata": {},
   "outputs": [],
   "source": [
    "hem_list = []\n",
    "\n",
    "hemisphere_results = hemisphere_soup.find('div', class_=\"collapsible results\")\n",
    "\n",
    "\n",
    "diff_hemisphere = hemisphere_results.find_all('div', class_=\"item\")"
   ]
  },
  {
   "cell_type": "code",
   "execution_count": null,
   "id": "7e9e896a",
   "metadata": {},
   "outputs": [],
   "source": [
    "for hemisphere in diff_hemisphere:\n",
    "    \n",
    "    title = hemisphere.find('h3').text\n",
    "    print(title)\n",
    "    \n",
    "    \n",
    "    hemisphere_link = hemisphere.find('a', class_=\"itemLink product-item\")['href']\n",
    "    print(hemisphere_link)\n",
    "    \n",
    "    \n",
    "    browser.visit(f'{hemispheres_url}{hemisphere_link}')\n",
    "    \n",
    "    \n",
    "    image_html = browser.html\n",
    "    hemisphere_img_soup = bs(image_html, 'html.parser')\n",
    "    \n",
    "    \n",
    "    image = hemisphere_img_soup.find('div', class_='downloads')\n",
    "\n",
    "    \n",
    "\n",
    "    img_url = image.find('li').a['href']\n",
    "    print(img_url)\n",
    "    print('--------------------------------')\n",
    "    \n",
    "    \n",
    "    img_url_full = f'{hemispheres_url}{img_url}'\n",
    "    \n",
    "    \n",
    "    hemisphere_dict = {\"title\":title,\n",
    "                       \"img_url\":img_url_full}\n",
    "    \n",
    "    \n",
    "    hem_list.append(hemisphere_dict)\n",
    "    \n",
    "\n",
    "print(hem_list)"
   ]
  },
  {
   "cell_type": "code",
   "execution_count": null,
   "id": "53c4b6ac",
   "metadata": {},
   "outputs": [],
   "source": []
  },
  {
   "cell_type": "code",
   "execution_count": null,
   "id": "29dc58f2",
   "metadata": {},
   "outputs": [],
   "source": []
  }
 ],
 "metadata": {
  "kernelspec": {
   "display_name": "Python [conda env:PythonData38] *",
   "language": "python",
   "name": "conda-env-PythonData38-py"
  },
  "language_info": {
   "codemirror_mode": {
    "name": "ipython",
    "version": 3
   },
   "file_extension": ".py",
   "mimetype": "text/x-python",
   "name": "python",
   "nbconvert_exporter": "python",
   "pygments_lexer": "ipython3",
   "version": "3.8.12"
  }
 },
 "nbformat": 4,
 "nbformat_minor": 5
}
